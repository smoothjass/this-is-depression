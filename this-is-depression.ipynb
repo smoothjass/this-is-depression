{
 "cells": [
  {
   "cell_type": "code",
   "execution_count": 1,
   "id": "initial_id",
   "metadata": {
    "collapsed": true,
    "ExecuteTime": {
     "end_time": "2023-11-15T09:01:27.174783330Z",
     "start_time": "2023-11-15T09:01:26.790391224Z"
    }
   },
   "outputs": [],
   "source": [
    "import pandas as pd\n",
    "import re"
   ]
  },
  {
   "cell_type": "code",
   "execution_count": 2,
   "outputs": [],
   "source": [
    "pd.set_option('display.max_colwidth', None)"
   ],
   "metadata": {
    "collapsed": false,
    "ExecuteTime": {
     "end_time": "2023-11-15T09:01:30.731198893Z",
     "start_time": "2023-11-15T09:01:30.724331744Z"
    }
   },
   "id": "dba85ba3e22ae637"
  },
  {
   "cell_type": "code",
   "execution_count": 3,
   "outputs": [],
   "source": [
    "# read data, assign column names, skip header\n",
    "data = pd.read_csv(\"depression_dataset_reddit_cleaned.csv\", names=[\"text\", \"is_depression\"], header=0)"
   ],
   "metadata": {
    "collapsed": false,
    "ExecuteTime": {
     "end_time": "2023-11-15T09:01:32.166169925Z",
     "start_time": "2023-11-15T09:01:32.089029223Z"
    }
   },
   "id": "50a8006442c89228"
  },
  {
   "cell_type": "code",
   "execution_count": 18,
   "outputs": [
    {
     "name": "stdout",
     "output_type": "stream",
     "text": [
      "depression:\n",
      "['i ve had tinnitus for like year could it be somehow related to anxiety also neck pain for year tension mainly thanks for answer', 'lately it s been so hard whenever i m by myself driving i just wish i could let go let go of everything and just die i ve cried for so many day now i m tired i m exhausted i feel miserable hopeless i know my life isn t so hard i know there are better thing to look at i try i really do try everyday my heart hurt and i don t know why i feel so much sadness but whyy i wish i knew i wish i didn t always feel this way i catch myself laying down on my bed just staring off thinking of nothing i m trying my best everyday to at least not cry i want to get better i want to feel happy i want to look forward i have a date tomorrow with my boyfriend i ll start with that i miss him so much i m always hopeful and hope i don t drag him down he s so kind to me and ha always seen the best of me word can t describe how much he mean to me i m sorry for venting but it feel strangely nice thank you', 'my boyfriend is suicidal he s almost attempted separate time thankfully i ve stopped him i know he sometimes cut himself very small cut but he just sent me a photo of photo of a drawing he made of u using his own blood he wrote cute thing all over it but he literally used his own blood so i feel like he s thinking about attempting since he put angel wing on his back what do i do i don t want him hurting himself anymore i make sure to spend a much time with him a possible and even though we re both we both truly love each other i just have no idea how to handle this like should i go over to his house to see how he s doing his parent could care le about him im the only one who s ever there for him what should i do i need help']\n",
      "not depression:\n",
      "['just put a bid in for signed panic at the disco poster unfortunatly the fall out boy one is already over my limit', 'living on neurofen for another day please go away headache', 'thought it would be interesting to get f update from twitter slightly regretting the decision i can t see anyone el s update']\n"
     ]
    }
   ],
   "source": [
    "# look at some samples\n",
    "print(\"depression:\\n\" + \n",
    "      str(data[data[\"is_depression\"] == 1].sample(n=3).text.tolist()))\n",
    "print(\"not depression:\\n\" + \n",
    "      str(data[data[\"is_depression\"] == 0].sample(n=3).text.tolist()))"
   ],
   "metadata": {
    "collapsed": false,
    "ExecuteTime": {
     "end_time": "2023-11-15T09:16:25.178552127Z",
     "start_time": "2023-11-15T09:16:25.133977802Z"
    }
   },
   "id": "83a36098b2baef4c"
  },
  {
   "cell_type": "code",
   "execution_count": 6,
   "outputs": [
    {
     "name": "stdout",
     "output_type": "stream",
     "text": [
      "text             3831\n",
      "is_depression    3831\n",
      "dtype: int64\n",
      "text             3900\n",
      "is_depression    3900\n",
      "dtype: int64\n"
     ]
    }
   ],
   "source": [
    "# class balance\n",
    "print(data[data[\"is_depression\"] == 1].count())\n",
    "print(data[data[\"is_depression\"] == 0].count())"
   ],
   "metadata": {
    "collapsed": false,
    "ExecuteTime": {
     "end_time": "2023-11-15T09:03:28.888284143Z",
     "start_time": "2023-11-15T09:03:28.871833950Z"
    }
   },
   "id": "3462f3feda82f3d7"
  },
  {
   "cell_type": "code",
   "execution_count": 11,
   "outputs": [
    {
     "name": "stdout",
     "output_type": "stream",
     "text": [
      "depression:\n",
      "avg: 658.299138606108\n",
      "min: 3\n",
      "max: 19822\n",
      "\n",
      "not depression:\n",
      "avg: 70.97572435395458\n",
      "min: 7\n",
      "max: 144\n"
     ]
    }
   ],
   "source": [
    "# the samples suggest, the id_depression texts are longer than the others. Is that really so?\n",
    "# print average length, min length and max length of elements shows that length could be an important factor\n",
    "print(\"depression:\\n\"\n",
    "      \"avg: \" + str(sum(map(len, data[data[\"is_depression\"] == 1].text))/float(len(data[data[\"is_depression\"] == 1].text))) + \"\\n\" +\n",
    "      \"min: \" + str(min(map(len, data[data[\"is_depression\"] == 1].text))) + \"\\n\" +\n",
    "      \"max: \" + str(max(map(len, data[data[\"is_depression\"] == 1].text))) + \"\\n\"\n",
    "      )\n",
    "print(\"not depression:\\n\"\n",
    "      \"avg: \" + str(sum(map(len, data[data[\"is_depression\"] == 0].text))/float(len(data[data[\"is_depression\"] == 1].text))) + \"\\n\" +\n",
    "      \"min: \" + str(min(map(len, data[data[\"is_depression\"] == 0].text))) + \"\\n\" +\n",
    "      \"max: \" + str(max(map(len, data[data[\"is_depression\"] == 0].text))) + \"\\n\"\n",
    "      )"
   ],
   "metadata": {
    "collapsed": false,
    "ExecuteTime": {
     "end_time": "2023-11-15T09:11:47.614514233Z",
     "start_time": "2023-11-15T09:11:47.544634718Z"
    }
   },
   "id": "28d77d0a3119a18f"
  },
  {
   "cell_type": "code",
   "execution_count": 5,
   "outputs": [
    {
     "data": {
      "text/plain": "0       None\n1       None\n2       None\n3       None\n4       None\n        ... \n7726    None\n7727    None\n7728    None\n7729    None\n7730    None\nName: text, Length: 7731, dtype: object"
     },
     "execution_count": 5,
     "metadata": {},
     "output_type": "execute_result"
    }
   ],
   "source": [
    "def preprocess(text):\n",
    "    # remove extra blanks\n",
    "    re.sub(r'\\t{2,}', ' ', text)\n",
    "    # TODO other stuff\n",
    "    \n",
    "data[\"text\"].apply(preprocess)"
   ],
   "metadata": {
    "collapsed": false,
    "ExecuteTime": {
     "end_time": "2023-11-15T09:01:38.679265116Z",
     "start_time": "2023-11-15T09:01:38.637526877Z"
    }
   },
   "id": "d927ea90d512c026"
  },
  {
   "cell_type": "code",
   "execution_count": null,
   "outputs": [],
   "source": [],
   "metadata": {
    "collapsed": false
   },
   "id": "5af393e6893ceac5"
  }
 ],
 "metadata": {
  "kernelspec": {
   "display_name": "Python 3",
   "language": "python",
   "name": "python3"
  },
  "language_info": {
   "codemirror_mode": {
    "name": "ipython",
    "version": 2
   },
   "file_extension": ".py",
   "mimetype": "text/x-python",
   "name": "python",
   "nbconvert_exporter": "python",
   "pygments_lexer": "ipython2",
   "version": "2.7.6"
  }
 },
 "nbformat": 4,
 "nbformat_minor": 5
}
