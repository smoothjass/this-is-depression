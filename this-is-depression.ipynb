{
 "cells": [
  {
   "cell_type": "code",
   "execution_count": 31,
   "id": "initial_id",
   "metadata": {
    "collapsed": true,
    "ExecuteTime": {
     "end_time": "2023-11-14T20:00:25.314122400Z",
     "start_time": "2023-11-14T20:00:25.282117600Z"
    }
   },
   "outputs": [],
   "source": [
    "import pandas as pd\n",
    "import re"
   ]
  },
  {
   "cell_type": "code",
   "execution_count": 32,
   "outputs": [],
   "source": [
    "pd.set_option('display.max_colwidth', None)"
   ],
   "metadata": {
    "collapsed": false,
    "ExecuteTime": {
     "end_time": "2023-11-14T20:00:26.848742100Z",
     "start_time": "2023-11-14T20:00:26.820670500Z"
    }
   },
   "id": "dba85ba3e22ae637"
  },
  {
   "cell_type": "code",
   "execution_count": 33,
   "outputs": [],
   "source": [
    "# read data, assign column names, skip header\n",
    "data = pd.read_csv(\"depression_dataset_reddit_cleaned.csv\", names=[\"text\", \"is_depression\"], header=0)"
   ],
   "metadata": {
    "collapsed": false,
    "ExecuteTime": {
     "end_time": "2023-11-14T20:00:27.324827100Z",
     "start_time": "2023-11-14T20:00:27.260830500Z"
    }
   },
   "id": "50a8006442c89228"
  },
  {
   "cell_type": "code",
   "execution_count": 37,
   "outputs": [
    {
     "name": "stdout",
     "output_type": "stream",
     "text": [
      "749                                                                                                                                                                                                                                                                                                                                                                                                                                                  i think the worst part of dealing with all of this is the absolute constant feeling of loneliness having no connection to anyone many act like they want to help but a soon a they see how deep and dark it is they back off my phone stay pretty silent unless someone need something\n",
      "3560                                                                                                                                                                                                                                                                                                                                                                                                                                                                                                                                                                                                                                     just cause my depression not kicking my as like it use to don t mean i m not still dealing with it\n",
      "1960    i realized the only reason i haven t killed myself is i don t want to be a burden on my brother and cause him and harm idk realizing that made me freak the fuck out the idea that i haven t lived my life for myself for year is making me have the urge again for some reason and it s scaring me the only thing that give me comfort is planning a day to end it so i don t end it now i really don t want to be here anymore i feel like people only want me around when it s convenient for them or when i can help them i am a last resort for everyone because i have no need at all i fucking hate myself and the only people who care about me are the people who have to this is stupid but it wa cathartic to write lmao\n",
      "Name: text, dtype: object\n",
      "5808    willadam i treated myself to that latte after the appointment which wa horrible i need to have my wisdom teeth surgically removed\n",
      "6526                                                                             oh and my agent had me booked out the wrong day x 000000\n",
      "6415                                                                                                            playing killzone the demo\n",
      "Name: text, dtype: object\n"
     ]
    }
   ],
   "source": [
    "# look at some samples\n",
    "print(data[data[\"is_depression\"] == 1].sample(n=3)[\"text\"])\n",
    "print(data[data[\"is_depression\"] == 0].sample(n=3)[\"text\"])"
   ],
   "metadata": {
    "collapsed": false,
    "ExecuteTime": {
     "end_time": "2023-11-14T20:01:42.702928700Z",
     "start_time": "2023-11-14T20:01:42.667723600Z"
    }
   },
   "id": "83a36098b2baef4c"
  },
  {
   "cell_type": "code",
   "execution_count": 41,
   "outputs": [
    {
     "data": {
      "text/plain": "0       None\n1       None\n2       None\n3       None\n4       None\n        ... \n7726    None\n7727    None\n7728    None\n7729    None\n7730    None\nName: text, Length: 7731, dtype: object"
     },
     "execution_count": 41,
     "metadata": {},
     "output_type": "execute_result"
    }
   ],
   "source": [
    "def preprocess(text):\n",
    "    # remove extra blanks\n",
    "    re.sub(r'\\t{2,}', ' ', text)\n",
    "    # TODO other stuff\n",
    "    \n",
    "data[\"text\"].apply(preprocess)"
   ],
   "metadata": {
    "collapsed": false,
    "ExecuteTime": {
     "end_time": "2023-11-14T20:04:49.341283400Z",
     "start_time": "2023-11-14T20:04:49.264281100Z"
    }
   },
   "id": "d927ea90d512c026"
  },
  {
   "cell_type": "code",
   "execution_count": null,
   "outputs": [],
   "source": [],
   "metadata": {
    "collapsed": false
   },
   "id": "5af393e6893ceac5"
  }
 ],
 "metadata": {
  "kernelspec": {
   "display_name": "Python 3",
   "language": "python",
   "name": "python3"
  },
  "language_info": {
   "codemirror_mode": {
    "name": "ipython",
    "version": 2
   },
   "file_extension": ".py",
   "mimetype": "text/x-python",
   "name": "python",
   "nbconvert_exporter": "python",
   "pygments_lexer": "ipython2",
   "version": "2.7.6"
  }
 },
 "nbformat": 4,
 "nbformat_minor": 5
}
