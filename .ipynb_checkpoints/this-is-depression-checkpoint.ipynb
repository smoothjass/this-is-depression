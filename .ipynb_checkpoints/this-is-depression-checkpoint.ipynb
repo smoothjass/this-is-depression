{
 "cells": [
  {
   "cell_type": "code",
   "execution_count": 57,
   "id": "initial_id",
   "metadata": {
    "collapsed": true,
    "ExecuteTime": {
     "end_time": "2023-11-22T10:40:17.228434876Z",
     "start_time": "2023-11-22T10:40:17.104156751Z"
    }
   },
   "outputs": [],
   "source": [
    "import pandas as pd\n",
    "import numpy as np\n",
    "import re\n",
    "from sklearn.feature_extraction.text import CountVectorizer\n",
    "from sklearn.feature_extraction.text import TfidfVectorizer\n",
    "from sklearn.model_selection import train_test_split\n",
    "from sklearn.naive_bayes import MultinomialNB\n",
    "from sklearn.metrics import confusion_matrix, accuracy_score, f1_score, classification_report\n",
    "\n",
    "import nltk, keras, string, html, math\n",
    "from nltk.tokenize import word_tokenize, sent_tokenize\n",
    "from nltk.corpus import stopwords, wordnet\n",
    "from nltk.stem import WordNetLemmatizer\n",
    "from sklearn.preprocessing import LabelEncoder\n",
    "from collections import Counter, defaultdict\n",
    "from keras.preprocessing.text import Tokenizer\n",
    "from keras.preprocessing.sequence import pad_sequences"
   ]
  },
  {
   "cell_type": "code",
   "execution_count": 58,
   "outputs": [],
   "source": [
    "pd.set_option('display.max_colwidth', None)"
   ],
   "metadata": {
    "collapsed": false,
    "ExecuteTime": {
     "end_time": "2023-11-22T10:40:17.233268377Z",
     "start_time": "2023-11-22T10:40:17.104357413Z"
    }
   },
   "id": "dba85ba3e22ae637"
  },
  {
   "cell_type": "code",
   "execution_count": 59,
   "outputs": [],
   "source": [
    "# read data, assign column names, skip header\n",
    "data = pd.read_csv(\"depression_dataset_reddit_cleaned.csv\", names=[\"text\", \"is_depression\"], header=0)"
   ],
   "metadata": {
    "collapsed": false,
    "ExecuteTime": {
     "end_time": "2023-11-22T10:40:17.233513543Z",
     "start_time": "2023-11-22T10:40:17.104489556Z"
    }
   },
   "id": "50a8006442c89228"
  },
  {
   "cell_type": "code",
   "execution_count": 60,
   "outputs": [
    {
     "name": "stdout",
     "output_type": "stream",
     "text": [
      "depression:\n",
      "['frasar9 tonyrouf edgar ojwang njeriwanyina superiority take your depression else where how you keep a conversation with a person with inferiority complex explaining your mental status wee go and cut tree', 'ha anyone used benadryl for anxiety attack i started using this because i refuse to be on benzos and find it work just enough to make it more manageable and wanted to know if others did too', 'thinking of starting it i have bad anxiety and think i have situational depression what s everyone s favorite medication and why i m nervous to start something for fear i ll gain weight or lose my sex drive something that doesn t usually cause that would be ideal']\n",
      "not depression:\n",
      "['still have a lot of work to catch up on', 'in bed i suddenly feel i wish ma wa here w me goodnight twitterfam', 'tomfelton late night suckkk gym always make me feel better though photoshoot for what']\n"
     ]
    }
   ],
   "source": [
    "# look at some samples\n",
    "print(\"depression:\\n\" + \n",
    "      str(data[data[\"is_depression\"] == 1].sample(n=3).text.tolist()))\n",
    "print(\"not depression:\\n\" + \n",
    "      str(data[data[\"is_depression\"] == 0].sample(n=3).text.tolist()))"
   ],
   "metadata": {
    "collapsed": false,
    "ExecuteTime": {
     "end_time": "2023-11-22T10:40:17.261426528Z",
     "start_time": "2023-11-22T10:40:17.117050634Z"
    }
   },
   "id": "83a36098b2baef4c"
  },
  {
   "cell_type": "code",
   "execution_count": 61,
   "outputs": [
    {
     "name": "stdout",
     "output_type": "stream",
     "text": [
      "text             3831\n",
      "is_depression    3831\n",
      "dtype: int64\n",
      "text             3900\n",
      "is_depression    3900\n",
      "dtype: int64\n"
     ]
    }
   ],
   "source": [
    "# class balance\n",
    "print(data[data[\"is_depression\"] == 1].count())\n",
    "print(data[data[\"is_depression\"] == 0].count())"
   ],
   "metadata": {
    "collapsed": false,
    "ExecuteTime": {
     "end_time": "2023-11-22T10:40:17.261685316Z",
     "start_time": "2023-11-22T10:40:17.160310549Z"
    }
   },
   "id": "3462f3feda82f3d7"
  },
  {
   "cell_type": "code",
   "execution_count": 62,
   "outputs": [
    {
     "name": "stdout",
     "output_type": "stream",
     "text": [
      "depression:\n",
      "avg: 658.299138606108\n",
      "min: 3\n",
      "max: 19822\n",
      "\n",
      "not depression:\n",
      "avg: 70.97572435395458\n",
      "min: 7\n",
      "max: 144\n"
     ]
    }
   ],
   "source": [
    "# the samples suggest, the id_depression texts are longer than the others. Is that really so?\n",
    "# print average length, min length and max length of elements shows that length could be an important factor\n",
    "print(\"depression:\\n\"\n",
    "      \"avg: \" + str(sum(map(len, data[data[\"is_depression\"] == 1].text))/float(len(data[data[\"is_depression\"] == 1].text))) + \"\\n\" +\n",
    "      \"min: \" + str(min(map(len, data[data[\"is_depression\"] == 1].text))) + \"\\n\" +\n",
    "      \"max: \" + str(max(map(len, data[data[\"is_depression\"] == 1].text))) + \"\\n\"\n",
    "      )\n",
    "print(\"not depression:\\n\"\n",
    "      \"avg: \" + str(sum(map(len, data[data[\"is_depression\"] == 0].text))/float(len(data[data[\"is_depression\"] == 1].text))) + \"\\n\" +\n",
    "      \"min: \" + str(min(map(len, data[data[\"is_depression\"] == 0].text))) + \"\\n\" +\n",
    "      \"max: \" + str(max(map(len, data[data[\"is_depression\"] == 0].text))) + \"\\n\"\n",
    "      )"
   ],
   "metadata": {
    "collapsed": false,
    "ExecuteTime": {
     "end_time": "2023-11-22T10:40:17.261874626Z",
     "start_time": "2023-11-22T10:40:17.160523759Z"
    }
   },
   "id": "28d77d0a3119a18f"
  },
  {
   "cell_type": "code",
   "execution_count": 63,
   "outputs": [],
   "source": [
    "def preprocess(text):\n",
    "    # remove extra blanks\n",
    "    re.sub(r'\\t{2,}', ' ', text)\n",
    "    # lowercase\n",
    "    text = text.lower()\n",
    "    # TODO other stuff\n",
    "    return text\n",
    "    \n",
    "data[\"text\"] = data[\"text\"].apply(preprocess)"
   ],
   "metadata": {
    "collapsed": false,
    "ExecuteTime": {
     "end_time": "2023-11-22T10:40:17.262079941Z",
     "start_time": "2023-11-22T10:40:17.204090611Z"
    }
   },
   "id": "d927ea90d512c026"
  },
  {
   "cell_type": "code",
   "execution_count": 64,
   "outputs": [],
   "source": [
    "# feature extraction\n",
    "# vectorizer does tokenization, data already lowercased\n",
    "# https://scikit-learn.org/stable/modules/feature_extraction.html\n",
    "# https://scikit-learn.org/stable/modules/generated/sklearn.feature_extraction.text.CountVectorizer.html#sklearn.feature_extraction.text.CountVectorizer\n",
    "X = data['text'].to_numpy()\n",
    "y = data['is_depression'].to_numpy()\n",
    "# Bag of words\n",
    "vectorizer = CountVectorizer(analyzer='word', ngram_range=(1, 1))\n",
    "X_BOW = vectorizer.fit_transform(X)"
   ],
   "metadata": {
    "collapsed": false,
    "ExecuteTime": {
     "end_time": "2023-11-22T10:40:17.562343645Z",
     "start_time": "2023-11-22T10:40:17.219294841Z"
    }
   },
   "id": "5af393e6893ceac5"
  },
  {
   "cell_type": "code",
   "execution_count": 65,
   "outputs": [],
   "source": [
    "# train test split\n",
    "X_train, X_test, y_train, y_test = train_test_split(X_BOW, y, stratify=y)"
   ],
   "metadata": {
    "collapsed": false,
    "ExecuteTime": {
     "end_time": "2023-11-22T10:40:17.597451079Z",
     "start_time": "2023-11-22T10:40:17.563797037Z"
    }
   },
   "id": "6aee33bffcc9b6c1"
  },
  {
   "cell_type": "code",
   "execution_count": 66,
   "outputs": [],
   "source": [
    "# train\n",
    "# https://scikit-learn.org/stable/modules/generated/sklearn.naive_bayes.MultinomialNB.html#sklearn.naive_bayes.MultinomialNB\n",
    "clf = MultinomialNB()\n",
    "clf.fit(X_train, y_train)\n",
    "# predict\n",
    "y_hat = clf.predict(X_test)"
   ],
   "metadata": {
    "collapsed": false,
    "ExecuteTime": {
     "end_time": "2023-11-22T10:40:17.599015974Z",
     "start_time": "2023-11-22T10:40:17.575090902Z"
    }
   },
   "id": "b4e9219b69eba57e"
  },
  {
   "cell_type": "code",
   "execution_count": 67,
   "outputs": [
    {
     "name": "stdout",
     "output_type": "stream",
     "text": [
      "743 232 45 913 0.8566994309363684 0.8682834046600095\n"
     ]
    }
   ],
   "source": [
    "# evaluate\n",
    "# https://scikit-learn.org/stable/modules/generated/sklearn.metrics.confusion_matrix.html\n",
    "# https://scikit-learn.org/stable/modules/generated/sklearn.metrics.accuracy_score.html#sklearn.metrics.accuracy_score\n",
    "# https://scikit-learn.org/stable/modules/generated/sklearn.metrics.f1_score.html#sklearn.metrics.f1_score\n",
    "tn, fp, fn, tp = confusion_matrix(y_test, y_hat).ravel()\n",
    "accuracy = accuracy_score(y_test, y_hat)\n",
    "f1 = f1_score(y_test, y_hat, zero_division=1.0)\n",
    "print(tn, fp, fn, tp, accuracy, f1)"
   ],
   "metadata": {
    "collapsed": false,
    "ExecuteTime": {
     "end_time": "2023-11-22T10:40:17.607494208Z",
     "start_time": "2023-11-22T10:40:17.584461380Z"
    }
   },
   "id": "f26894d0096da755"
  },
  {
   "cell_type": "code",
   "execution_count": 68,
   "outputs": [
    {
     "name": "stdout",
     "output_type": "stream",
     "text": [
      "555 420 17 941 0.7739265390584583 0.8115567054764986\n"
     ]
    }
   ],
   "source": [
    "# trying to encode the documents using TFIDF instead of words\n",
    "# https://scikit-learn.org/stable/modules/generated/sklearn.feature_extraction.text.TfidfTransformer.html#sklearn.feature_extraction.text.TfidfTransformer\n",
    "# encode\n",
    "vectorizer = TfidfVectorizer()\n",
    "X_TFIDF = vectorizer.fit_transform(X)\n",
    "# split\n",
    "X_train, X_test, y_train, y_test = train_test_split(X_TFIDF, y, stratify=y)\n",
    "# train\n",
    "clf = MultinomialNB()\n",
    "clf.fit(X_train, y_train)\n",
    "# predict\n",
    "y_hat = clf.predict(X_test)\n",
    "# evaluate\n",
    "tn, fp, fn, tp = confusion_matrix(y_test, y_hat).ravel()\n",
    "accuracy = accuracy_score(y_test, y_hat)\n",
    "f1 = f1_score(y_test, y_hat, zero_division=1.0)\n",
    "print(tn, fp, fn, tp, accuracy, f1)"
   ],
   "metadata": {
    "collapsed": false,
    "ExecuteTime": {
     "end_time": "2023-11-22T10:40:18.016953456Z",
     "start_time": "2023-11-22T10:40:17.613371336Z"
    }
   },
   "id": "3cbbf0ba1ea59751"
  },
  {
   "cell_type": "code",
   "execution_count": 69,
   "outputs": [
    {
     "name": "stdout",
     "output_type": "stream",
     "text": [
      "975 0 958 0 0.5043973098810139 0.0\n",
      "(array([0]), array([1933]))\n"
     ]
    }
   ],
   "source": [
    "# this is a little experiment: how well would a model perform, which is only trained on length of text?\n",
    "X = data[\"text\"].apply(len).to_numpy().reshape(-1,1)\n",
    "y = data[\"is_depression\"].to_numpy()\n",
    "# train test split\n",
    "X_train, X_test, y_train, y_test = train_test_split(X, y, stratify=y)\n",
    "# train\n",
    "clf = MultinomialNB()\n",
    "clf.fit(X_train, y_train)\n",
    "# predict\n",
    "y_hat = clf.predict(X_test)\n",
    "# evaluate\n",
    "tn, fp, fn, tp = confusion_matrix(y_test, y_hat).ravel()\n",
    "accuracy = accuracy_score(y_test, y_hat)\n",
    "f1 = f1_score(y_test, y_hat, zero_division=1.0)\n",
    "# it just thinks everything is not depression. so 50%. works horrible.\n",
    "# we could try adding some more features if we feel like it, but not right now.\n",
    "print(tn, fp, fn, tp, accuracy, f1)\n",
    "print(np.unique(y_hat, return_counts=True))"
   ],
   "metadata": {
    "collapsed": false,
    "ExecuteTime": {
     "end_time": "2023-11-22T10:40:18.070210551Z",
     "start_time": "2023-11-22T10:40:18.025871048Z"
    }
   },
   "id": "4f2699ce887a2a48"
  },
  {
   "cell_type": "code",
   "execution_count": 70,
   "outputs": [],
   "source": [
    "# TODO optional: word2vec for naive bayes\n",
    "# TODO optional: spacy similarties cause it's fun\n",
    "# TODO optional: spacy transformer cause it's cool"
   ],
   "metadata": {
    "collapsed": false,
    "ExecuteTime": {
     "end_time": "2023-11-22T10:40:18.070526255Z",
     "start_time": "2023-11-22T10:40:18.043761784Z"
    }
   },
   "id": "d4f2619e718d9bf4"
  },
  {
   "cell_type": "code",
   "execution_count": 71,
   "outputs": [],
   "source": [
    "# LSTM\n",
    "# using this resource\n",
    "# https://towardsdatascience.com/naive-bayes-and-lstm-based-classifier-models-63d521a48c20"
   ],
   "metadata": {
    "collapsed": false,
    "ExecuteTime": {
     "end_time": "2023-11-22T10:40:18.071022139Z",
     "start_time": "2023-11-22T10:40:18.047752573Z"
    }
   },
   "id": "2e04536052a5bb29"
  },
  {
   "cell_type": "code",
   "execution_count": 72,
   "outputs": [],
   "source": [
    "X = data['text'].to_numpy()\n",
    "y = data['is_depression'].to_numpy()\n",
    "# train test split\n",
    "X_train, X_test, y_train, y_test = train_test_split(X, y, stratify=y)"
   ],
   "metadata": {
    "collapsed": false,
    "ExecuteTime": {
     "end_time": "2023-11-22T10:40:18.152804874Z",
     "start_time": "2023-11-22T10:40:18.057881835Z"
    }
   },
   "id": "70793b4912aeecbe"
  },
  {
   "cell_type": "code",
   "execution_count": 73,
   "outputs": [],
   "source": [
    "# Hyperparameters of the model\n",
    "oov_tok = '<OOK>'\n",
    "embedding_dim = 100\n",
    "max_length = 150\n",
    "padding_type='post'\n",
    "trunc_type='post'\n",
    "\n",
    "# tokenizes sentences\n",
    "tokenizer = Tokenizer()\n",
    "tokenizer.fit_on_texts(X_train)\n",
    "\n",
    "# vocabulary size\n",
    "word_index = tokenizer.word_index\n",
    "vocab_size = len(tokenizer.word_index) + 1\n",
    "\n",
    "# converts train dataset to sequence and pads sequences\n",
    "train_sequences = tokenizer.texts_to_sequences(X_train)\n",
    "train_padded = pad_sequences(train_sequences, padding='post', maxlen=max_length)\n",
    "\n",
    "# converts Test dataset to sequence and pads sequences\n",
    "test_sequences = tokenizer.texts_to_sequences(X_test)\n",
    "test_padded = pad_sequences(test_sequences, padding='post', maxlen=max_length)"
   ],
   "metadata": {
    "collapsed": false,
    "ExecuteTime": {
     "end_time": "2023-11-22T10:40:18.655184982Z",
     "start_time": "2023-11-22T10:40:18.100246127Z"
    }
   },
   "id": "3a368bc216e2b466"
  },
  {
   "cell_type": "code",
   "execution_count": 74,
   "outputs": [
    {
     "name": "stdout",
     "output_type": "stream",
     "text": [
      "Model: \"sequential_1\"\n",
      "_________________________________________________________________\n",
      " Layer (type)                Output Shape              Param #   \n",
      "=================================================================\n",
      " embedding_1 (Embedding)     (None, 150, 100)          1609400   \n",
      "                                                                 \n",
      " bidirectional_1 (Bidirecti  (None, 128)               84480     \n",
      " onal)                                                           \n",
      "                                                                 \n",
      " dense_2 (Dense)             (None, 24)                3096      \n",
      "                                                                 \n",
      " dense_3 (Dense)             (None, 1)                 25        \n",
      "                                                                 \n",
      "=================================================================\n",
      "Total params: 1697001 (6.47 MB)\n",
      "Trainable params: 1697001 (6.47 MB)\n",
      "Non-trainable params: 0 (0.00 Byte)\n",
      "_________________________________________________________________\n"
     ]
    }
   ],
   "source": [
    "# model initialization\n",
    "model = keras.Sequential([\n",
    "    keras.layers.Embedding(vocab_size, embedding_dim, input_length=max_length),\n",
    "    keras.layers.Bidirectional(keras.layers.LSTM(64)),\n",
    "    keras.layers.Dense(24, activation='relu'),\n",
    "    keras.layers.Dense(1, activation='sigmoid')\n",
    "])\n",
    "\n",
    "# compiles model\n",
    "model.compile(loss='binary_crossentropy',\n",
    "              optimizer='adam',\n",
    "              metrics=['accuracy'])\n",
    "\n",
    "# model summary\n",
    "model.summary()"
   ],
   "metadata": {
    "collapsed": false,
    "ExecuteTime": {
     "end_time": "2023-11-22T10:40:19.234224649Z",
     "start_time": "2023-11-22T10:40:18.683688256Z"
    }
   },
   "id": "a0c9232cb8be6029"
  },
  {
   "cell_type": "code",
   "execution_count": 75,
   "outputs": [
    {
     "name": "stdout",
     "output_type": "stream",
     "text": [
      "Epoch 1/5\n",
      "164/164 [==============================] - 18s 94ms/step - loss: 0.2576 - accuracy: 0.8963 - val_loss: 0.1786 - val_accuracy: 0.9397\n",
      "Epoch 2/5\n",
      "164/164 [==============================] - 15s 94ms/step - loss: 0.0638 - accuracy: 0.9803 - val_loss: 0.1210 - val_accuracy: 0.9586\n",
      "Epoch 3/5\n",
      "164/164 [==============================] - 15s 91ms/step - loss: 0.0292 - accuracy: 0.9910 - val_loss: 0.1343 - val_accuracy: 0.9621\n",
      "Epoch 4/5\n",
      "164/164 [==============================] - 16s 95ms/step - loss: 0.0146 - accuracy: 0.9954 - val_loss: 0.1548 - val_accuracy: 0.9586\n",
      "Epoch 5/5\n",
      "164/164 [==============================] - 21s 126ms/step - loss: 0.0094 - accuracy: 0.9971 - val_loss: 0.1637 - val_accuracy: 0.9483\n"
     ]
    }
   ],
   "source": [
    "#training the model\n",
    "num_epochs = 5\n",
    "history = model.fit(train_padded, y_train, \n",
    "                    epochs=num_epochs, verbose=1, \n",
    "                    validation_split=0.1)"
   ],
   "metadata": {
    "collapsed": false,
    "ExecuteTime": {
     "end_time": "2023-11-22T10:41:44.256709323Z",
     "start_time": "2023-11-22T10:40:19.196694252Z"
    }
   },
   "id": "10c187362f653a71"
  },
  {
   "cell_type": "code",
   "execution_count": 76,
   "outputs": [
    {
     "name": "stdout",
     "output_type": "stream",
     "text": [
      "61/61 [==============================] - 2s 20ms/step\n",
      "The probabilities are - \n",
      "[[9.9991107e-01]\n",
      " [1.7032092e-02]\n",
      " [1.1283369e-03]\n",
      " ...\n",
      " [1.9983333e-04]\n",
      " [3.2477101e-04]\n",
      " [9.9999464e-01]]\n",
      "\n",
      "The labels are - \n",
      "[[1]\n",
      " [0]\n",
      " [0]\n",
      " ...\n",
      " [0]\n",
      " [0]\n",
      " [1]]\n",
      "\n",
      "The accuracy of the model is  0.958613554061045\n",
      "\n",
      "The accuracy and other metrics are \n",
      "\n",
      "              precision    recall  f1-score   support\n",
      "\n",
      "           0       0.95      0.97      0.96       975\n",
      "           1       0.97      0.95      0.96       958\n",
      "\n",
      "    accuracy                           0.96      1933\n",
      "   macro avg       0.96      0.96      0.96      1933\n",
      "weighted avg       0.96      0.96      0.96      1933\n"
     ]
    }
   ],
   "source": [
    "# Gets probabilities\n",
    "prediction = model.predict(test_padded)\n",
    "print(\"The probabilities are - \", prediction, sep='\\n')\n",
    "\n",
    "# Gets labels based on probability 1 if p>= 0.5 else 0\n",
    "for each in prediction:\n",
    "    if each[0] >=0.5:\n",
    "        each[0] = 1\n",
    "    else:\n",
    "        each[0] = 0\n",
    "prediction = prediction.astype('int32') \n",
    "print(\"\\nThe labels are - \", prediction, sep='\\n')\n",
    "\n",
    "# Calculates accuracy on Test data\n",
    "print(\"\\nThe accuracy of the model is \", accuracy_score(y_test, prediction))\n",
    "print(\"\\nThe accuracy and other metrics are \\n\", classification_report(y_test, prediction, labels=[0, 1]),sep='\\n')"
   ],
   "metadata": {
    "collapsed": false,
    "ExecuteTime": {
     "end_time": "2023-11-22T10:41:46.296586017Z",
     "start_time": "2023-11-22T10:41:44.252318196Z"
    }
   },
   "id": "e73b2a48f1012729"
  },
  {
   "cell_type": "code",
   "execution_count": 77,
   "outputs": [
    {
     "name": "stdout",
     "output_type": "stream",
     "text": [
      "1/1 [==============================] - 0s 24ms/step\n",
      "The probabilities are - \n",
      "[[7.0789293e-04]\n",
      " [9.9979615e-01]\n",
      " [9.7954142e-01]\n",
      " [9.9921525e-01]]\n",
      "\n",
      "The labels are - \n",
      "[[0]\n",
      " [1]\n",
      " [1]\n",
      " [1]]\n"
     ]
    }
   ],
   "source": [
    "# trying some recent posts I am getting from r/depression and non depression related subreddits\n",
    "sentence = [\"Our most-broken and least-understood rules is \\\"helpers may not invite private contact as a first resort\\\", so we've made a new wiki to explain it\", \n",
    "            \"Idk why but everyone seems depressed these days (including me).. Is it a phase that everyone goes through? Or is it just that our generation is fucked?\", \n",
    "            \"For everyone that needs to hear it I love you no matter what and just keep up the hard work. Stuff will get better in the near future so keep your heads up\",\n",
    "            \"Guys I have a 2 in 1 laptop, Fedora was working incredibly from a USB Flashdrive compared to other distros, it was fast and everything worked just fine, but then I updated it and it became really slow, almost unusable... Any recommendations?\"]\n",
    "\n",
    "# converts to a sequence\n",
    "test_sequences = tokenizer.texts_to_sequences(sentence)\n",
    "\n",
    "# pads the sequence\n",
    "test_padded = pad_sequences(test_sequences, padding='post', maxlen=max_length)\n",
    "\n",
    "# Gets probabilities\n",
    "prediction = model.predict(test_padded)\n",
    "print(\"The probabilities are - \", prediction, sep='\\n')\n",
    "\n",
    "# Gets labels based on probability 1 if p>= 0.5 else 0\n",
    "for each in prediction:\n",
    "    if each[0] >=0.5:\n",
    "        each[0] = 1\n",
    "    else:\n",
    "        each[0] = 0\n",
    "prediction = prediction.astype('int32') \n",
    "print(\"\\nThe labels are - \", prediction, sep='\\n')"
   ],
   "metadata": {
    "collapsed": false,
    "ExecuteTime": {
     "end_time": "2023-11-22T10:41:46.371026930Z",
     "start_time": "2023-11-22T10:41:46.296299973Z"
    }
   },
   "id": "761398094151bcf3"
  }
 ],
 "metadata": {
  "kernelspec": {
   "display_name": "Python 3",
   "language": "python",
   "name": "python3"
  },
  "language_info": {
   "codemirror_mode": {
    "name": "ipython",
    "version": 2
   },
   "file_extension": ".py",
   "mimetype": "text/x-python",
   "name": "python",
   "nbconvert_exporter": "python",
   "pygments_lexer": "ipython2",
   "version": "2.7.6"
  }
 },
 "nbformat": 4,
 "nbformat_minor": 5
}
